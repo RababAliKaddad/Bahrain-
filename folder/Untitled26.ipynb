{
  "nbformat": 4,
  "nbformat_minor": 0,
  "metadata": {
    "colab": {
      "provenance": []
    },
    "kernelspec": {
      "name": "python3",
      "display_name": "Python 3"
    },
    "language_info": {
      "name": "python"
    }
  },
  "cells": [
    {
      "cell_type": "code",
      "execution_count": 11,
      "metadata": {
        "colab": {
          "base_uri": "https://localhost:8080/"
        },
        "id": "g9u07Ib5hAL7",
        "outputId": "2d6754ce-1609-4c46-87e4-f28a3ce29c25"
      },
      "outputs": [
        {
          "output_type": "stream",
          "name": "stdout",
          "text": [
            "Enter a sentence or paragraph: i unhappy\n",
            "\n",
            "Analysis Results:\n",
            "Positive words: 0\n",
            "Negative words: 1\n",
            "Overall Sentiment: Negative\n"
          ]
        }
      ],
      "source": [
        "from typing import Text\n",
        "import string\n",
        "\n",
        "positive_words = [\"happy\", \"good\", \"great\", \"awesome\", \"joy\", \"love\", \"excellent\", \"fortunate\", \"pleased\"]\n",
        "negative_words = [\"sad\", \"bad\", \"terrible\", \"awful\", \"hate\", \"horrible\", \"unhappy\", \"angry\", \"worst\"]\n",
        "\n",
        "Text= input\n",
        "def get_user_input():\n",
        "    return input(\"Enter a sentence or paragraph: \")\n",
        "\n",
        "\n",
        "\n",
        "def analyze(text, positive_words, negative_words):\n",
        "    text = text.lower()\n",
        "    text = text.translate(str.maketrans('', '', string.punctuation))\n",
        "    words = text.split()\n",
        "    positive_count = sum(word in positive_words for word in words)\n",
        "    negative_count = sum(word in negative_words for word in words)\n",
        "\n",
        "    return positive_count, negative_count\n",
        "\n",
        "def determine_sentiment(positive_count, negative_count):\n",
        "    if positive_count > negative_count:\n",
        "        return \"Positive\"\n",
        "    elif negative_count > positive_count:\n",
        "        return \"Negative\"\n",
        "    else:\n",
        "        return \"Neutral\"\n",
        "\n",
        "\n",
        "def display_results(positive_count, negative_count, sentiment):\n",
        "    print(\"\\nAnalysis Results:\")\n",
        "    print(f\"Positive words: {positive_count}\")\n",
        "    print(f\"Negative words: {negative_count}\")\n",
        "    print(f\"Overall Sentiment: {sentiment}\")\n",
        "\n",
        "\n",
        "def main():\n",
        "    text = get_user_input()\n",
        "    pos_count, neg_count = analyze(text, positive_words, negative_words)\n",
        "    sentiment = determine_sentiment(pos_count, neg_count)\n",
        "    display_results(pos_count, neg_count, sentiment)\n",
        "\n",
        "if __name__ == \"__main__\":\n",
        "main()"
      ]
    },
    {
      "cell_type": "code",
      "source": [],
      "metadata": {
        "id": "QITBoyMfiseU"
      },
      "execution_count": 11,
      "outputs": []
    }
  ]
}